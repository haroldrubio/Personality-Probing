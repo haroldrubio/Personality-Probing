{
 "cells": [
  {
   "cell_type": "markdown",
   "metadata": {},
   "source": [
    "# Querying GPT3"
   ]
  },
  {
   "cell_type": "code",
   "execution_count": 5,
   "metadata": {},
   "outputs": [],
   "source": [
    "import os, openai, json"
   ]
  },
  {
   "cell_type": "code",
   "execution_count": 6,
   "metadata": {},
   "outputs": [
    {
     "name": "stdout",
     "output_type": "stream",
     "text": [
      "{'text': 'I worry about things\\n', 'keyed': 'plus', 'domain': 'N', 'facet': 1, 'choice_string': '1) Very Inaccurate\\n2) Moderately Inaccurate\\n3) Neutral\\n4) Moderately Accurate\\n5) Very Accurate\\n', 'reverse_score': False, 'whole_question': 'I worry about things\\n1) Very Inaccurate\\n2) Moderately Inaccurate\\n3) Neutral\\n4) Moderately Accurate\\n5) Very Accurate\\nYour response: '}\n"
     ]
    }
   ],
   "source": [
    "# Load the filtered questions\n",
    "with open('./data/questions.json', 'r') as f:\n",
    "    questions = json.load(f)\n",
    "print(questions[0])"
   ]
  },
  {
   "cell_type": "code",
   "execution_count": 9,
   "metadata": {},
   "outputs": [
    {
     "name": "stdout",
     "output_type": "stream",
     "text": [
      "I worry about things\n",
      "1) Very Inaccurate\n",
      "2) Moderately Inaccurate\n",
      "3) Neutral\n",
      "4) Moderately Accurate\n",
      "5) Very Accurate\n",
      "Your response: \n",
      "{\n",
      "  \"choices\": [\n",
      "    {\n",
      "      \"finish_reason\": \"stop\",\n",
      "      \"index\": 0,\n",
      "      \"logprobs\": null,\n",
      "      \"text\": \"________________________________________________________\"\n",
      "    },\n",
      "    {\n",
      "      \"finish_reason\": \"length\",\n",
      "      \"index\": 1,\n",
      "      \"logprobs\": null,\n",
      "      \"text\": \"__________________\\nName: The next five questions ask\"\n",
      "    },\n",
      "    {\n",
      "      \"finish_reason\": \"length\",\n",
      "      \"index\": 2,\n",
      "      \"logprobs\": null,\n",
      "      \"text\": \"___________________________________________________\\nWhat do you worry about?\"\n",
      "    },\n",
      "    {\n",
      "      \"finish_reason\": \"length\",\n",
      "      \"index\": 3,\n",
      "      \"logprobs\": null,\n",
      "      \"text\": \"______________________________\\nPlease take a guess at a ''\"\n",
      "    },\n",
      "    {\n",
      "      \"finish_reason\": \"length\",\n",
      "      \"index\": 4,\n",
      "      \"logprobs\": null,\n",
      "      \"text\": \"\\u00a0Ask the rider what he or she worries about\"\n",
      "    }\n",
      "  ],\n",
      "  \"created\": 1637844517,\n",
      "  \"id\": \"cmpl-488SzyJkYKmXA6M1Drjg22UJawmcB\",\n",
      "  \"model\": \"curie:2020-05-03\",\n",
      "  \"object\": \"text_completion\"\n",
      "}\n"
     ]
    }
   ],
   "source": [
    "# Load your API key from an environment variable or secret management service\n",
    "with open('.api-key', 'r') as f:\n",
    "    openai.api_key = f.readline()\n",
    "response = openai.Completion.create(engine=\"curie\",\n",
    "                                    prompt=questions[0]['whole_question'],\n",
    "                                    max_tokens=10,\n",
    "                                    n=5)\n",
    "print(questions[0]['whole_question'])\n",
    "print(response)"
   ]
  },
  {
   "cell_type": "code",
   "execution_count": null,
   "metadata": {},
   "outputs": [],
   "source": []
  }
 ],
 "metadata": {
  "interpreter": {
   "hash": "40d1be0de97a20210aae8b935cc650f6c5ecaa0dda6f4a7d35b61bad57d138ea"
  },
  "kernelspec": {
   "display_name": "Python 3.9.7 64-bit ('psy': conda)",
   "language": "python",
   "name": "python3"
  },
  "language_info": {
   "codemirror_mode": {
    "name": "ipython",
    "version": 3
   },
   "file_extension": ".py",
   "mimetype": "text/x-python",
   "name": "python",
   "nbconvert_exporter": "python",
   "pygments_lexer": "ipython3",
   "version": "3.9.7"
  },
  "orig_nbformat": 4
 },
 "nbformat": 4,
 "nbformat_minor": 2
}
